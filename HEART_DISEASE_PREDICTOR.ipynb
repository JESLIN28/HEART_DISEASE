{
 "cells": [
  {
   "cell_type": "markdown",
   "id": "36b3d74f",
   "metadata": {},
   "source": [
    "# Heart Disease Predictor from Behavourial risk "
   ]
  },
  {
   "cell_type": "markdown",
   "id": "4eb6266f",
   "metadata": {},
   "source": [
    "## 1.Loading the library files"
   ]
  },
  {
   "cell_type": "code",
   "execution_count": null,
   "id": "22a8b1ef",
   "metadata": {},
   "outputs": [],
   "source": [
    "import pandas as pd\n",
    "import warnings\n",
    "import seaborn as sns\n",
    "warnings.filterwarnings('ignore')"
   ]
  },
  {
   "cell_type": "markdown",
   "id": "73f2e14f",
   "metadata": {},
   "source": [
    "## 2.Loading dataset"
   ]
  },
  {
   "cell_type": "code",
   "execution_count": null,
   "id": "252e7840",
   "metadata": {},
   "outputs": [],
   "source": [
    "heart_disease= pd.read_csv(r\"C:/Users/User/Jeslin_data/HEART/SORTED_1LAKH.csv\",encoding= 'unicode_escape')\n",
    "print('Read file 1')"
   ]
  },
  {
   "cell_type": "code",
   "execution_count": null,
   "id": "7b30cb12",
   "metadata": {},
   "outputs": [],
   "source": [
    "heart_disease.head(5)\n"
   ]
  },
  {
   "cell_type": "code",
   "execution_count": null,
   "id": "840bd488",
   "metadata": {},
   "outputs": [],
   "source": [
    "heart_disease.shape"
   ]
  },
  {
   "cell_type": "code",
   "execution_count": null,
   "id": "e299f043",
   "metadata": {},
   "outputs": [],
   "source": [
    "heart_disease.info()"
   ]
  },
  {
   "cell_type": "code",
   "execution_count": null,
   "id": "cc2e66e8",
   "metadata": {},
   "outputs": [],
   "source": [
    "\n",
    "\n",
    "new_data =heart_disease.iloc[:, [19,20, 21,27,28,29,32,34,35,36,40,43,51,52,57,59,61,63,65,68,73,77,82,83,95,113,119,133,260,33]]"
   ]
  },
  {
   "cell_type": "code",
   "execution_count": null,
   "id": "c630e752",
   "metadata": {},
   "outputs": [],
   "source": [
    "new_data.info()"
   ]
  },
  {
   "cell_type": "code",
   "execution_count": null,
   "id": "61eca235",
   "metadata": {},
   "outputs": [],
   "source": [
    "new_data.head()"
   ]
  },
  {
   "cell_type": "code",
   "execution_count": null,
   "id": "311b4812",
   "metadata": {},
   "outputs": [],
   "source": []
  },
  {
   "cell_type": "code",
   "execution_count": null,
   "id": "d1cea6ec",
   "metadata": {},
   "outputs": [],
   "source": [
    "new_data=new_data.rename(columns={\"cvdinfr4\":\"Target\"})\n",
    "new_data.head()"
   ]
  },
  {
   "cell_type": "code",
   "execution_count": null,
   "id": "7ccfa269",
   "metadata": {},
   "outputs": [],
   "source": [
    "new_data.info()"
   ]
  },
  {
   "cell_type": "markdown",
   "id": "63c4dcdb",
   "metadata": {},
   "source": [
    "# plotting\n"
   ]
  },
  {
   "cell_type": "code",
   "execution_count": null,
   "id": "4901b494",
   "metadata": {},
   "outputs": [],
   "source": [
    "# Plotting attrition of Patients\n",
    "import matplotlib.pyplot as plt\n",
    "fig, (ax1, ax2) = plt.subplots(nrows=2, ncols=1, sharey=False, figsize=(12,12))\n",
    "ax1 = new_data['Target'].value_counts().plot.pie( x=\"Heart disease\" ,y ='no.of patients', \n",
    "                   autopct = \"%1.0f%%\",labels=[\"Normal\",\"Heart Disease\",], startangle = 60,ax=ax1);\n",
    "ax1.set(title = 'Percentage of Heart disease patients in Dataset')\n",
    "\n",
    "ax2 = new_data[\"Target\"].value_counts().plot(kind=\"barh\" ,ax =ax2)\n",
    "for i,j in enumerate(new_data[\"Target\"].value_counts().values):\n",
    "    ax2.text(.5,i,j,fontsize=14)\n",
    "ax2.set(title = 'No. of Heart disease patients in Dataset')\n",
    "plt.show()"
   ]
  },
  {
   "cell_type": "code",
   "execution_count": null,
   "id": "3dbd5430",
   "metadata": {},
   "outputs": [],
   "source": [
    "plt.hist(new_data['sleptim1'], bins=11, align='right', color='purple', edgecolor='black')\n",
    "plt.xlabel('Sleep time')\n",
    "plt.ylabel('Frequency')\n",
    "plt.title('Sleep time')"
   ]
  },
  {
   "cell_type": "code",
   "execution_count": null,
   "id": "fdc09699",
   "metadata": {},
   "outputs": [],
   "source": [
    "new_data.boxplot(figsize=(15 ,10))"
   ]
  },
  {
   "cell_type": "code",
   "execution_count": null,
   "id": "97ea72b2",
   "metadata": {},
   "outputs": [],
   "source": [
    "import matplotlib.pyplot as plt\n",
    "import seaborn as sns\n",
    "#get correlations of each features in dataset\n",
    "corrmat = new_data.corr()\n",
    "top_corr_features = corrmat.index\n",
    "plt.figure(figsize=(30,30))\n",
    "#plot heat map\n",
    "g=sns.heatmap(new_data[top_corr_features].corr(),annot=True,cmap=\"RdYlGn\")\n"
   ]
  },
  {
   "cell_type": "code",
   "execution_count": null,
   "id": "bca4df90",
   "metadata": {},
   "outputs": [],
   "source": []
  },
  {
   "cell_type": "code",
   "execution_count": null,
   "id": "9c6fc6ca",
   "metadata": {},
   "outputs": [],
   "source": [
    "# checking sex and heart disease\n",
    "plt.figure(figsize=(18,12))\n",
    "plt.subplot(221)\n",
    "new_data[\"sex\"].value_counts().plot.pie(autopct = \"%1.0f%%\",colors = sns.color_palette(\"prism\",5),startangle = 60,labels=[\"Male\",\"Female\"],\n",
    "wedgeprops={\"linewidth\":2,\"edgecolor\":\"k\"},explode=[.1,.1],shadow =True)\n",
    "plt.title(\"Distribution of Gender\")\n",
    "plt.subplot(222)\n",
    "ax= sns.distplot(new_data['alcday5'], rug=True)\n",
    "plt.title(\"Alochol consumption in past 30 days\")\n",
    "plt.show()"
   ]
  },
  {
   "cell_type": "markdown",
   "id": "9ceaceda",
   "metadata": {},
   "source": [
    "new_data.hist(figsize=(30,30))\n",
    "plt.show()"
   ]
  },
  {
   "cell_type": "code",
   "execution_count": null,
   "id": "385e98ad",
   "metadata": {},
   "outputs": [],
   "source": [
    "# distribution of nuerical features\n",
    "sns.pairplot(new_data, hue = 'Target', vars = ['physhlth','menthlth','sleptim1','weight2'] )"
   ]
  },
  {
   "cell_type": "code",
   "execution_count": null,
   "id": "7065dfdb",
   "metadata": {},
   "outputs": [],
   "source": [
    "sns.pairplot(new_data, hue = 'Target', vars = ['height3','alcday5','fruitju1','vegetab1'] )\n",
    "\n"
   ]
  },
  {
   "cell_type": "code",
   "execution_count": null,
   "id": "798129d5",
   "metadata": {},
   "outputs": [],
   "source": [
    "sns.scatterplot(x = 'physhlth', y = 'menthlth', hue = 'Target', data = new_data)"
   ]
  },
  {
   "cell_type": "markdown",
   "id": "97f5f572",
   "metadata": {},
   "source": [
    "# Taking care of missing values"
   ]
  },
  {
   "cell_type": "code",
   "execution_count": null,
   "id": "26e4011e",
   "metadata": {},
   "outputs": [],
   "source": [
    "new_data.isnull().sum()\n",
    "\n"
   ]
  },
  {
   "cell_type": "code",
   "execution_count": null,
   "id": "756e924d",
   "metadata": {},
   "outputs": [],
   "source": [
    "new_data= new_data.drop(columns =[\"bpmeds\",\"dradvise\",\"diabeye\"])\n",
    "\n"
   ]
  },
  {
   "cell_type": "code",
   "execution_count": null,
   "id": "191d3aeb",
   "metadata": {},
   "outputs": [],
   "source": [
    "new_data.isnull().sum()\n"
   ]
  },
  {
   "cell_type": "code",
   "execution_count": null,
   "id": "6a15bac9",
   "metadata": {},
   "outputs": [],
   "source": [
    "new_data.info()"
   ]
  },
  {
   "cell_type": "code",
   "execution_count": null,
   "id": "2fe1d254",
   "metadata": {},
   "outputs": [],
   "source": [
    "## mean imputation for numerical values to deal with missing values\n",
    "\n",
    "new_data.physhlth = new_data.physhlth.fillna(new_data.physhlth.mean())\n",
    "\n",
    "new_data.sleptim1 = new_data.sleptim1.fillna(new_data.sleptim1.mean())\n",
    "new_data.weight2  = new_data.weight2.fillna(new_data.weight2.mean())\n",
    "new_data.height3  = new_data.height3.fillna(new_data.height3.mean())\n",
    "new_data.alcday5  = new_data.alcday5.fillna(new_data.alcday5.mean())\n",
    "\n",
    "new_data.fruitju1   = new_data.fruitju1.fillna(new_data.fruitju1.mean())\n",
    "new_data.vegetab1   = new_data.vegetab1.fillna(new_data.vegetab1.mean())\n",
    "new_data.menthlth  = new_data.menthlth.fillna(new_data.menthlth.mean())\n"
   ]
  },
  {
   "cell_type": "code",
   "execution_count": null,
   "id": "9382c358",
   "metadata": {},
   "outputs": [],
   "source": [
    "##mode imputation for categorical values\n",
    "import numpy as np\n",
    "\n",
    "\n",
    "\n",
    "new_data['bphigh4'].fillna(new_data['bphigh4'].mode()[0],inplace=True)\n",
    "new_data['toldhi2'].fillna(new_data['toldhi2'].mode()[0],inplace=True)\n",
    "\n",
    "new_data['cvdcrhd4'].fillna(new_data['cvdcrhd4'].mode()[0],inplace=True)\n",
    "\n",
    "\n",
    "\n",
    "new_data['genhlth'].fillna(new_data['genhlth'].mode()[0],inplace=True)\n",
    "new_data['cvdstrk3'].fillna(new_data['cvdstrk3'].mode()[0],inplace=True)\n",
    "new_data['asthma3'].fillna(new_data['asthma3'].mode()[0],inplace=True)\n",
    "\n",
    "new_data['chckidny'].fillna(new_data['chckidny'].mode()[0],inplace=True)\n",
    "\n",
    "new_data['internet'].fillna(new_data['internet'].mode()[0],inplace=True)\n",
    "new_data['qlactlm2'].fillna(new_data['qlactlm2'].mode()[0],inplace=True)\n",
    "\n",
    "new_data['smoke100'].fillna(new_data['smoke100'].mode()[0],inplace=True)\n",
    "new_data['exerany2'].fillna(new_data['exerany2'].mode()[0],inplace=True)\n",
    "new_data['seatbelt'].fillna(new_data['seatbelt'].mode()[0],inplace=True)\n",
    "\n",
    "new_data['X_bmi5cat'].fillna(new_data['X_bmi5cat'].mode()[0],inplace=True)\n",
    "new_data['Target'].fillna(new_data['Target'].mode()[0],inplace=True)\n",
    "\n",
    "new_data['chccopd1'].fillna(new_data['chccopd1'].mode()[0],inplace=True)\n",
    "\n",
    "new_data['blind'].fillna(new_data['blind'].mode()[0],inplace=True)\n",
    "new_data['diffwalk'].fillna(new_data['diffwalk'].mode()[0],inplace=True)\n",
    "\n",
    "new_data['chccopd1'].fillna(new_data['chccopd1'].mode()[0],inplace=True)\n",
    "\n",
    "new_data['medicare'].fillna(new_data['medicare'].mode()[0],inplace=True)\n",
    "\n",
    "\n",
    "\n"
   ]
  },
  {
   "cell_type": "code",
   "execution_count": null,
   "id": "32597caf",
   "metadata": {},
   "outputs": [],
   "source": [
    "new_data.isnull().sum()"
   ]
  },
  {
   "cell_type": "code",
   "execution_count": null,
   "id": "15e6d4e1",
   "metadata": {},
   "outputs": [],
   "source": [
    "new_data.info()"
   ]
  },
  {
   "cell_type": "markdown",
   "id": "40dd1bc2",
   "metadata": {},
   "source": [
    "# Taking care of duplicate values"
   ]
  },
  {
   "cell_type": "code",
   "execution_count": null,
   "id": "821d8875",
   "metadata": {},
   "outputs": [],
   "source": [
    "\n",
    "data_dup = new_data.duplicated().any()\n",
    "data_dup"
   ]
  },
  {
   "cell_type": "code",
   "execution_count": null,
   "id": "b6fc3983",
   "metadata": {},
   "outputs": [],
   "source": [
    "new_data=new_data.drop_duplicates()\n",
    "data_dup = new_data.duplicated().any()\n",
    "data_dup "
   ]
  },
  {
   "cell_type": "code",
   "execution_count": null,
   "id": "6daa75f2",
   "metadata": {},
   "outputs": [],
   "source": [
    "new_data.info()"
   ]
  },
  {
   "cell_type": "markdown",
   "id": "c07551e1",
   "metadata": {},
   "source": [
    "# Encoding categorical data\n"
   ]
  },
  {
   "cell_type": "markdown",
   "id": "c508567f",
   "metadata": {},
   "source": [
    "# seggregating categorical and numerical columns"
   ]
  },
  {
   "cell_type": "code",
   "execution_count": null,
   "id": "c6fa5f96",
   "metadata": {},
   "outputs": [],
   "source": [
    "# this shows the numerical values\n",
    "new_data.describe()"
   ]
  },
  {
   "cell_type": "code",
   "execution_count": null,
   "id": "ba69b855",
   "metadata": {},
   "outputs": [],
   "source": [
    "categorical_column=[]\n",
    "numerical_column=[]\n",
    "\n",
    "for column in new_data.columns:\n",
    "    if new_data[column].nunique ()<= 10:\n",
    "        categorical_column.append(column)\n",
    "    else:\n",
    "        numerical_column.append(column)\n",
    "\n"
   ]
  },
  {
   "cell_type": "code",
   "execution_count": null,
   "id": "86ebc593",
   "metadata": {},
   "outputs": [],
   "source": [
    "# create a correlation heatmap\n",
    "import seaborn as sns\n",
    "from matplotlib import pyplot as plt\n",
    "\n",
    "sns.heatmap(new_data[numerical_column].corr(),annot=True, cmap='terrain', linewidths=0.1)\n",
    "fig=plt.gcf()\n",
    "fig.set_size_inches(8,6)\n",
    "plt.show()"
   ]
  },
  {
   "cell_type": "code",
   "execution_count": null,
   "id": "90771870",
   "metadata": {},
   "outputs": [],
   "source": [
    "#pearsons's coeffiecient\n",
    "\n",
    "pear_cor_coeff = new_data.corr(method='pearson')\n",
    "pear_cor_coeff"
   ]
  },
  {
   "cell_type": "code",
   "execution_count": null,
   "id": "b06c2b60",
   "metadata": {},
   "outputs": [],
   "source": [
    "import seaborn as sb\n",
    "sb.heatmap(pear_cor_coeff, \n",
    "            xticklabels=pear_cor_coeff.columns,\n",
    "            yticklabels=pear_cor_coeff.columns,\n",
    "            cmap='RdBu_r',\n",
    "            annot=True,\n",
    "            linewidth=3.0)"
   ]
  },
  {
   "cell_type": "code",
   "execution_count": null,
   "id": "a1f481c1",
   "metadata": {},
   "outputs": [],
   "source": [
    "        \n",
    "categorical_column\n"
   ]
  },
  {
   "cell_type": "code",
   "execution_count": null,
   "id": "0ddb6208",
   "metadata": {},
   "outputs": [],
   "source": [
    "numerical_column"
   ]
  },
  {
   "cell_type": "markdown",
   "id": "38673976",
   "metadata": {},
   "source": [
    "# Analysing the features of categorical values (contains whether yes or no or else o or 1)"
   ]
  },
  {
   "cell_type": "code",
   "execution_count": null,
   "id": "8fc0d2d6",
   "metadata": {},
   "outputs": [],
   "source": [
    "new_data[\"genhlth\"].value_counts()\n",
    "new_data[\"genhlth\"].unique()"
   ]
  },
  {
   "cell_type": "code",
   "execution_count": null,
   "id": "8ecb3939",
   "metadata": {},
   "outputs": [],
   "source": [
    "new_data[\"bphigh4\"].value_counts()\n",
    "new_data[\"bphigh4\"].unique()"
   ]
  },
  {
   "cell_type": "code",
   "execution_count": null,
   "id": "164f6295",
   "metadata": {},
   "outputs": [],
   "source": [
    "new_data[\"cvdcrhd4\"].value_counts()\n",
    "new_data[\"cvdcrhd4\"].unique()"
   ]
  },
  {
   "cell_type": "code",
   "execution_count": null,
   "id": "92d6ce6d",
   "metadata": {},
   "outputs": [],
   "source": [
    "new_data['cvdcrhd4'] = new_data['cvdcrhd4'].map({'Yes':1 ,'No':0})\n",
    "#new_data.head()"
   ]
  },
  {
   "cell_type": "code",
   "execution_count": null,
   "id": "3b921a79",
   "metadata": {},
   "outputs": [],
   "source": [
    "new_data[\"toldhi2\"].value_counts()\n",
    "new_data[\"toldhi2\"].unique()"
   ]
  },
  {
   "cell_type": "code",
   "execution_count": null,
   "id": "dc5a94ac",
   "metadata": {},
   "outputs": [],
   "source": [
    "new_data['toldhi2'] = new_data['toldhi2'].map({'Yes':1 ,'No':0})\n",
    "#new_data.head()"
   ]
  },
  {
   "cell_type": "code",
   "execution_count": null,
   "id": "e9cf256a",
   "metadata": {},
   "outputs": [],
   "source": [
    "new_data[\"cvdstrk3\"].value_counts()\n",
    "new_data[\"cvdstrk3\"].unique()"
   ]
  },
  {
   "cell_type": "code",
   "execution_count": null,
   "id": "c66ff25b",
   "metadata": {},
   "outputs": [],
   "source": [
    "new_data['cvdstrk3'] = new_data['cvdstrk3'].map({'Yes':1 ,'No':0})\n",
    "#new_data.head()"
   ]
  },
  {
   "cell_type": "code",
   "execution_count": null,
   "id": "5230f2cc",
   "metadata": {},
   "outputs": [],
   "source": [
    "new_data[\"asthma3\"].value_counts()\n",
    "new_data[\"asthma3\"].unique()"
   ]
  },
  {
   "cell_type": "code",
   "execution_count": null,
   "id": "554eb722",
   "metadata": {},
   "outputs": [],
   "source": [
    "new_data['asthma3'] = new_data['asthma3'].map({'Yes':1 ,'No':0})\n",
    "#new_data.head()"
   ]
  },
  {
   "cell_type": "code",
   "execution_count": null,
   "id": "c51ba264",
   "metadata": {},
   "outputs": [],
   "source": [
    "new_data[\"chckidny\"].value_counts()\n",
    "new_data[\"chckidny\"].unique()"
   ]
  },
  {
   "cell_type": "code",
   "execution_count": null,
   "id": "1b4c8dd3",
   "metadata": {},
   "outputs": [],
   "source": [
    "new_data[\"internet\"].value_counts()\n",
    "new_data[\"internet\"].unique()"
   ]
  },
  {
   "cell_type": "code",
   "execution_count": null,
   "id": "0c35d225",
   "metadata": {},
   "outputs": [],
   "source": [
    "new_data['internet'] = new_data['internet'].map({'Yes':1 ,'No':0})\n",
    "#new_data.head()"
   ]
  },
  {
   "cell_type": "code",
   "execution_count": null,
   "id": "5f17a91f",
   "metadata": {},
   "outputs": [],
   "source": [
    "new_data[\"sex\"].value_counts()\n",
    "new_data[\"sex\"].unique()"
   ]
  },
  {
   "cell_type": "code",
   "execution_count": null,
   "id": "0631bd5c",
   "metadata": {},
   "outputs": [],
   "source": [
    "new_data['sex'] = new_data['sex'].map({'Female':1 ,'Male':0})\n",
    "#new_data.head()"
   ]
  },
  {
   "cell_type": "code",
   "execution_count": null,
   "id": "f7b6ed89",
   "metadata": {},
   "outputs": [],
   "source": [
    "new_data[\"qlactlm2\"].value_counts()\n",
    "new_data[\"qlactlm2\"].unique()"
   ]
  },
  {
   "cell_type": "code",
   "execution_count": null,
   "id": "a49ff1dd",
   "metadata": {},
   "outputs": [],
   "source": [
    "new_data['qlactlm2'] = new_data['qlactlm2'].map({'No':1 ,'Yes':0})\n",
    "#new_data.head()"
   ]
  },
  {
   "cell_type": "code",
   "execution_count": null,
   "id": "6f7d4636",
   "metadata": {},
   "outputs": [],
   "source": [
    "new_data[\"smoke100\"].value_counts()\n",
    "new_data[\"smoke100\"].unique()"
   ]
  },
  {
   "cell_type": "code",
   "execution_count": null,
   "id": "6ac74788",
   "metadata": {},
   "outputs": [],
   "source": [
    "new_data['smoke100'] = new_data['smoke100'].map({'Yes':1 ,'No':0})\n",
    "#new_data.head()"
   ]
  },
  {
   "cell_type": "code",
   "execution_count": null,
   "id": "7093eed5",
   "metadata": {},
   "outputs": [],
   "source": [
    "new_data[\"exerany2\"].value_counts()\n",
    "new_data[\"exerany2\"].unique()"
   ]
  },
  {
   "cell_type": "code",
   "execution_count": null,
   "id": "8acbbe3f",
   "metadata": {},
   "outputs": [],
   "source": [
    "new_data[\"exerany2\"] = new_data[\"exerany2\"].map({'Yes':1 ,'No':0})\n",
    "#new_data.head()"
   ]
  },
  {
   "cell_type": "code",
   "execution_count": null,
   "id": "2bdd0af1",
   "metadata": {},
   "outputs": [],
   "source": [
    "new_data[\"seatbelt\"].value_counts()\n",
    "new_data[\"seatbelt\"].unique()"
   ]
  },
  {
   "cell_type": "code",
   "execution_count": null,
   "id": "31a8f2ba",
   "metadata": {},
   "outputs": [],
   "source": [
    "new_data[\"X_bmi5cat\"].value_counts()\n",
    "new_data[\"X_bmi5cat\"].unique()"
   ]
  },
  {
   "cell_type": "code",
   "execution_count": null,
   "id": "a7449aec",
   "metadata": {},
   "outputs": [],
   "source": [
    "new_data[\"Target\"].value_counts()\n",
    "new_data[\"Target\"].unique()"
   ]
  },
  {
   "cell_type": "code",
   "execution_count": null,
   "id": "726902a7",
   "metadata": {},
   "outputs": [],
   "source": [
    "new_data[\"Target\"] = new_data['Target'].map({'Yes':1 ,'No':0})\n",
    "new_data.head()"
   ]
  },
  {
   "cell_type": "code",
   "execution_count": null,
   "id": "acb3b5c0",
   "metadata": {},
   "outputs": [],
   "source": [
    "\n",
    "new_data[\"chccopd1\"].value_counts()\n",
    "new_data[\"chccopd1\"].unique()\n",
    "\n",
    "new_data['chccopd1'] = new_data['chccopd1'].map({'Yes':1 ,'No':0})\n",
    "#new_data.head()\n",
    "\n",
    "\n",
    "\n",
    "\n",
    "new_data['diffwalk'] = new_data['diffwalk'].map({'Yes':1 ,'No':0})\n",
    "#new_data.head()\n",
    "\n",
    "new_data['blind'] = new_data['blind'].map({'No':1 ,'Yes':0})\n",
    "new_data.head()\n",
    "\n",
    "\n",
    "\n",
    "new_data['medicare'] = new_data['medicare'].map({'No':1 ,'Yes':0})\n",
    "new_data.head()"
   ]
  },
  {
   "cell_type": "code",
   "execution_count": null,
   "id": "5f8d4dda",
   "metadata": {},
   "outputs": [],
   "source": [
    "#dummies using pandas to convert categorial to one hot coding"
   ]
  },
  {
   "cell_type": "code",
   "execution_count": null,
   "id": "b9caf26e",
   "metadata": {},
   "outputs": [],
   "source": [
    "\n",
    "categorical_column.remove('toldhi2')\n",
    "categorical_column.remove('cvdstrk3')\n",
    "categorical_column.remove('asthma3')\n",
    "categorical_column.remove('blind')\n",
    "categorical_column.remove('diffwalk')\n",
    "categorical_column.remove('internet')\n",
    "categorical_column.remove('qlactlm2')\n",
    "categorical_column.remove('medicare')\n",
    "categorical_column.remove('sex')\n",
    "categorical_column.remove('smoke100')\n",
    "categorical_column.remove('exerany2')\n",
    "categorical_column.remove('Target')\n",
    "categorical_column.remove('chccopd1')"
   ]
  },
  {
   "cell_type": "code",
   "execution_count": null,
   "id": "6f9c5ba1",
   "metadata": {},
   "outputs": [],
   "source": [
    "new_data_lin=pd.get_dummies(new_data,columns= categorical_column)"
   ]
  },
  {
   "cell_type": "code",
   "execution_count": null,
   "id": "63ccc1c1",
   "metadata": {},
   "outputs": [],
   "source": [
    "new_data_lin.columns"
   ]
  },
  {
   "cell_type": "markdown",
   "id": "ebf9c262",
   "metadata": {},
   "source": [
    "# Feature scaling"
   ]
  },
  {
   "cell_type": "code",
   "execution_count": null,
   "id": "808b4c67",
   "metadata": {},
   "outputs": [],
   "source": [
    "#only for numerical columns"
   ]
  },
  {
   "cell_type": "code",
   "execution_count": null,
   "id": "f5bbb4fe",
   "metadata": {},
   "outputs": [],
   "source": [
    "from sklearn.preprocessing import StandardScaler"
   ]
  },
  {
   "cell_type": "code",
   "execution_count": null,
   "id": "09397755",
   "metadata": {},
   "outputs": [],
   "source": [
    "scaler =StandardScaler()\n",
    "new_data_lin[numerical_column]=scaler.fit_transform(new_data_lin[numerical_column])"
   ]
  },
  {
   "cell_type": "code",
   "execution_count": null,
   "id": "6a695111",
   "metadata": {},
   "outputs": [],
   "source": [
    "new_data_lin.info()"
   ]
  },
  {
   "cell_type": "markdown",
   "id": "f7c8116d",
   "metadata": {},
   "source": [
    "# splititing into train and test"
   ]
  },
  {
   "cell_type": "code",
   "execution_count": null,
   "id": "08083d77",
   "metadata": {},
   "outputs": [],
   "source": [
    "X= new_data_lin.drop('Target',axis=1)"
   ]
  },
  {
   "cell_type": "code",
   "execution_count": null,
   "id": "70ff1bcc",
   "metadata": {},
   "outputs": [],
   "source": [
    "Y = new_data_lin['Target']"
   ]
  },
  {
   "cell_type": "code",
   "execution_count": null,
   "id": "06c501ce",
   "metadata": {},
   "outputs": [],
   "source": [
    "from sklearn.model_selection import train_test_split\n",
    "X_train,X_test,Y_train,Y_test=train_test_split(X,Y,test_size=0.2,random_state=42)"
   ]
  },
  {
   "cell_type": "code",
   "execution_count": null,
   "id": "a8733368",
   "metadata": {},
   "outputs": [],
   "source": [
    "X_train"
   ]
  },
  {
   "cell_type": "code",
   "execution_count": null,
   "id": "4d853d1f",
   "metadata": {},
   "outputs": [],
   "source": [
    "X_test"
   ]
  },
  {
   "cell_type": "code",
   "execution_count": null,
   "id": "343d3625",
   "metadata": {},
   "outputs": [],
   "source": [
    "Y_train"
   ]
  },
  {
   "cell_type": "code",
   "execution_count": null,
   "id": "a1f38501",
   "metadata": {},
   "outputs": [],
   "source": [
    "Y_test"
   ]
  },
  {
   "cell_type": "code",
   "execution_count": null,
   "id": "42fa543e",
   "metadata": {},
   "outputs": [],
   "source": [
    "len(X_train), len(X_test)\n"
   ]
  },
  {
   "cell_type": "code",
   "execution_count": null,
   "id": "a4a40d96",
   "metadata": {},
   "outputs": [],
   "source": [
    "len(Y_train), len(Y_test)"
   ]
  },
  {
   "cell_type": "code",
   "execution_count": null,
   "id": "31c18d60",
   "metadata": {},
   "outputs": [],
   "source": [
    "X.corrwith(Y).plot.bar(\n",
    "        figsize = (25, 8), title = \"Correlation with Target\", fontsize = 15,\n",
    "        rot = 90, grid = True)"
   ]
  },
  {
   "cell_type": "code",
   "execution_count": null,
   "id": "5eddb644",
   "metadata": {},
   "outputs": [],
   "source": [
    "# library & dataset\n",
    "import seaborn as sns\n",
    "\n",
    "\n",
    "# plot\n",
    "sns.violinplot(x=new_data[\"Target\"], y=new_data[\"toldhi2\"])"
   ]
  },
  {
   "cell_type": "markdown",
   "id": "0323ba1f",
   "metadata": {},
   "source": [
    "# MODELS"
   ]
  },
  {
   "cell_type": "code",
   "execution_count": null,
   "id": "89fe617d",
   "metadata": {},
   "outputs": [],
   "source": [
    "from sklearn.metrics import mean_squared_error, accuracy_score, confusion_matrix\n",
    "from sklearn.model_selection import cross_val_score,KFold\n",
    "import sklearn.metrics as metrics\n",
    "import pandas as pd\n",
    "\n",
    "\n",
    "from sklearn.metrics import log_loss,roc_auc_score,precision_score,f1_score,recall_score,roc_curve,auc\n",
    "from sklearn.metrics import classification_report, confusion_matrix,accuracy_score,fbeta_score,matthews_corrcoef\n",
    "from sklearn import metrics"
   ]
  },
  {
   "cell_type": "markdown",
   "id": "75885a00",
   "metadata": {},
   "source": [
    "## LOGISTIC REGRESSION"
   ]
  },
  {
   "cell_type": "code",
   "execution_count": null,
   "id": "011a94ad",
   "metadata": {},
   "outputs": [],
   "source": [
    "\n",
    "\n",
    "from sklearn.linear_model import LogisticRegression\n",
    "log_clf=LogisticRegression()\n",
    "log_clf.fit(X_train,Y_train)\n",
    "filename='Logistic_regression_1'\n",
    "\n",
    "Log_pred = log_clf.predict(X_test)\n",
    "\n",
    "Log_Acc = accuracy_score(Y_test,Log_pred)\n",
    "Log_Acc \n"
   ]
  },
  {
   "cell_type": "code",
   "execution_count": null,
   "id": "17b5435f",
   "metadata": {},
   "outputs": [],
   "source": [
    "Log_Acc_result= pd.DataFrame({'Algorithm': ['LogisticRegression'], 'Accuracy': Log_Acc},index={'1'})\n",
    "Models_Acc = Log_Acc_result[['Algorithm','Accuracy']]\n",
    "Models_Acc "
   ]
  },
  {
   "cell_type": "code",
   "execution_count": null,
   "id": "8f67fd43",
   "metadata": {},
   "outputs": [],
   "source": [
    "k = 20\n",
    "\n",
    "kfold = KFold(n_splits=k, random_state=70,shuffle=True)\n",
    "log_cross = cross_val_score(log_clf, X, Y, cv=kfold)\n",
    "Log_cross_acc =np.mean(abs(log_cross))\n",
    "Log_cross_acc\n"
   ]
  },
  {
   "cell_type": "code",
   "execution_count": null,
   "id": "6be151eb",
   "metadata": {},
   "outputs": [],
   "source": [
    "# Logistic regression mse\n",
    "Log_MSE = mean_squared_error(Y_test,Log_pred)\n",
    "Log_MSE \n",
    "\n",
    "Log_MSE_result = pd.DataFrame({'Algorithm': ['LogisticRegression'], 'MSE': Log_MSE},index={'1'})\n",
    "Models_Mse = Log_MSE_result[['Algorithm','MSE']]\n",
    "Models_Mse "
   ]
  },
  {
   "cell_type": "code",
   "execution_count": null,
   "id": "7bd1b7b8",
   "metadata": {},
   "outputs": [],
   "source": [
    "Log_MSE_result = pd.DataFrame({'Algorithm': ['LogisticRegression'], 'MSE': Log_MSE},index={'1'})\n",
    "Models_Mse = Log_MSE_result[['Algorithm','MSE']]\n",
    "Models_Mse"
   ]
  },
  {
   "cell_type": "code",
   "execution_count": null,
   "id": "90e9669e",
   "metadata": {},
   "outputs": [],
   "source": [
    "Log_Acc_CV_result= pd.DataFrame({'Algorithm': ['KFold LogisticRegression'], 'Accuracy': Log_cross_acc},index={'2'})\n",
    "Models_Acc = pd.concat([Models_Acc, Log_Acc_CV_result])\n",
    "Models_Acc = Models_Acc[['Algorithm','Accuracy']]\n",
    "Models_Acc\n"
   ]
  },
  {
   "cell_type": "code",
   "execution_count": null,
   "id": "26c0ddb9",
   "metadata": {},
   "outputs": [],
   "source": [
    "CM=confusion_matrix(Y_test,Log_pred )\n",
    "import seaborn as sns\n",
    "sns.heatmap(CM, annot=True)\n",
    "\n",
    "TN = CM[0][0]\n",
    "FN = CM[1][0]\n",
    "TP = CM[1][1]\n",
    "FP = CM[0][1]\n",
    "specificity = TN/(TN+FP)*100\n",
    "loss_log = log_loss(Y_test, Log_pred )*100\n",
    "acc= accuracy_score(Y_test, Log_pred )*100\n",
    "roc=roc_auc_score(Y_test, Log_pred )*100\n",
    "prec = precision_score(Y_test, Log_pred )*100\n",
    "rec = recall_score(Y_test, Log_pred )*100\n",
    "f1 = f1_score(Y_test, Log_pred)*100\n",
    "\n",
    "mathew = matthews_corrcoef(Y_test, Log_pred )*100\n",
    "model_results =pd.DataFrame([['Logistic regerssion',acc, prec,rec,specificity, f1,roc, loss_log,mathew]],\n",
    "               columns = ['Model', 'Accuracy','Precision', 'Sensitivity','Specificity', 'F1 Score','ROC','Log_Loss','mathew_corrcoef'])\n",
    "\n",
    "\n",
    "\n",
    "\n"
   ]
  },
  {
   "cell_type": "code",
   "execution_count": null,
   "id": "81088c89",
   "metadata": {},
   "outputs": [],
   "source": [
    "model_results"
   ]
  },
  {
   "cell_type": "markdown",
   "id": "e0d797da",
   "metadata": {},
   "source": [
    "## KNeighborsclassifier"
   ]
  },
  {
   "cell_type": "code",
   "execution_count": null,
   "id": "816d00d5",
   "metadata": {},
   "outputs": [],
   "source": [
    "from sklearn.neighbors import KNeighborsClassifier\n",
    "knn = KNeighborsClassifier()"
   ]
  },
  {
   "cell_type": "code",
   "execution_count": null,
   "id": "82458982",
   "metadata": {},
   "outputs": [],
   "source": [
    "\n",
    "knn.fit(X_train,Y_train)\n",
    "KNN_pred=knn.predict(X_test)\n",
    "\n",
    "print(\"mean_squared_error\",mean_squared_error(Y_test,KNN_pred))\n",
    "print(\"accuracy_score\",accuracy_score(Y_test,KNN_pred))\n"
   ]
  },
  {
   "cell_type": "code",
   "execution_count": null,
   "id": "136f9790",
   "metadata": {},
   "outputs": [],
   "source": [
    "score =[]\n",
    "\n",
    "\n",
    "for k in range (1,40):\n",
    "    knn = KNeighborsClassifier(n_neighbors=k)\n",
    "    knn.fit(X_train,Y_train)\n",
    "    KNN_prediction=knn.predict(X_test)\n",
    "    score.append(accuracy_score(Y_test,KNN_prediction))\n",
    "    "
   ]
  },
  {
   "cell_type": "code",
   "execution_count": null,
   "id": "c94b767c",
   "metadata": {},
   "outputs": [],
   "source": [
    "knn = KNeighborsClassifier(n_neighbors= 39)\n",
    "knn.fit(X_train,Y_train)\n",
    "KNN_prediction=knn.predict(X_test)\n",
    "   "
   ]
  },
  {
   "cell_type": "code",
   "execution_count": null,
   "id": "40116854",
   "metadata": {},
   "outputs": [],
   "source": [
    "KNN_MSE= mean_squared_error(Y_test,KNN_prediction)\n",
    "\n",
    "KNN_MSE"
   ]
  },
  {
   "cell_type": "code",
   "execution_count": null,
   "id": "9b200a16",
   "metadata": {},
   "outputs": [],
   "source": [
    "KNN_ACC= accuracy_score(Y_test,KNN_prediction)\n",
    "\n",
    "KNN_ACC"
   ]
  },
  {
   "cell_type": "code",
   "execution_count": null,
   "id": "b8ad1aa8",
   "metadata": {},
   "outputs": [],
   "source": [
    "KNN_ACC_result= pd.DataFrame({'Algorithm': ['KNeighborsclassifier'], 'Accuracy':KNN_ACC },index={'3'})\n",
    "Models_3 = pd.concat([Models_Acc, KNN_ACC_result])\n",
    "Models_3 = Models_3[['Algorithm','Accuracy']]\n",
    "Models_3"
   ]
  },
  {
   "cell_type": "code",
   "execution_count": null,
   "id": "2f6b78c1",
   "metadata": {},
   "outputs": [],
   "source": [
    "\n",
    "k = 20\n",
    "\n",
    "kfold = KFold(n_splits=k, random_state=70,shuffle=True)\n",
    "K_cross = cross_val_score(knn , X, Y, cv=kfold)\n"
   ]
  },
  {
   "cell_type": "code",
   "execution_count": null,
   "id": "cd0d1224",
   "metadata": {},
   "outputs": [],
   "source": [
    "KNN_cross_Acc=np.mean(abs(K_cross))\n",
    "KNN_cross_Acc\n"
   ]
  },
  {
   "cell_type": "code",
   "execution_count": null,
   "id": "ebe7e620",
   "metadata": {},
   "outputs": [],
   "source": [
    "KNN_cross_Acc_result = pd.DataFrame({'Algorithm': ['KFold KNeighborsclassifier'], 'Accuracy': KNN_cross_Acc},index={'4'})\n",
    "Models_4 = pd.concat([Models_3, KNN_cross_Acc_result])\n",
    "Models_4 = Models_4[['Algorithm','Accuracy']]\n",
    "Models_4\n",
    "\n"
   ]
  },
  {
   "cell_type": "markdown",
   "id": "cc952bf3",
   "metadata": {},
   "source": [
    "## svc"
   ]
  },
  {
   "cell_type": "code",
   "execution_count": null,
   "id": "240d2942",
   "metadata": {},
   "outputs": [],
   "source": [
    "from sklearn import svm\n",
    "svm = svm.SVC()\n",
    "svm.fit(X_train,Y_train)\n",
    "SVC_pred = svm.predict(X_test)\n"
   ]
  },
  {
   "cell_type": "code",
   "execution_count": null,
   "id": "834cc38d",
   "metadata": {},
   "outputs": [],
   "source": [
    "SVM_Acc = accuracy_score(Y_test,SVC_pred)\n",
    "SVM_Acc                         "
   ]
  },
  {
   "cell_type": "code",
   "execution_count": null,
   "id": "4b5cdbea",
   "metadata": {},
   "outputs": [],
   "source": [
    "MSE_Acc = mean_squared_error(Y_test,SVC_pred)\n",
    "MSE_Acc\n",
    "                             "
   ]
  },
  {
   "cell_type": "code",
   "execution_count": null,
   "id": "3456decf",
   "metadata": {},
   "outputs": [],
   "source": [
    "SVM_Acc_result= pd.DataFrame({'Algorithm': ['SVM classifier'], 'Accuracy': SVM_Acc },index={'5'})\n",
    "Models_5 = pd.concat([Models_4, SVM_Acc_result])\n",
    "Models_5 = Models_5[['Algorithm','Accuracy']]\n",
    "Models_5"
   ]
  },
  {
   "cell_type": "code",
   "execution_count": null,
   "id": "7002d736",
   "metadata": {},
   "outputs": [],
   "source": [
    "k = 20\n",
    "\n",
    "kfold = KFold(n_splits=k, random_state=70,shuffle=True)\n",
    "svm_cross = cross_val_score(svm, X, Y, cv=kfold)\n",
    "SVM_cross_Acc=np.mean(abs(svm_cross))\n",
    "SVM_cross_Acc"
   ]
  },
  {
   "cell_type": "code",
   "execution_count": null,
   "id": "53b7bae4",
   "metadata": {},
   "outputs": [],
   "source": [
    "SVM_cross_Acc_result= pd.DataFrame({'Algorithm': ['KFold SVM classifier'], 'Accuracy': SVM_cross_Acc },index={'6'})\n",
    "Models_6 = pd.concat([Models_5, SVM_cross_Acc_result])\n",
    "Models_6 = Models_6[['Algorithm','Accuracy']]\n",
    "Models_6"
   ]
  },
  {
   "cell_type": "markdown",
   "id": "3b6cdd58",
   "metadata": {},
   "source": [
    "## GradientBoostingClassifier"
   ]
  },
  {
   "cell_type": "code",
   "execution_count": null,
   "id": "0b38beb1",
   "metadata": {},
   "outputs": [],
   "source": [
    "\n",
    "from sklearn.ensemble import GradientBoostingClassifier\n",
    "gbc=GradientBoostingClassifier()\n",
    "gbc.fit(X_train,Y_train)\n",
    "GBC_pred = gbc.predict(X_test)\n",
    "GB_ACC= accuracy_score(Y_test,GBC_pred)\n",
    "GB_ACC"
   ]
  },
  {
   "cell_type": "code",
   "execution_count": null,
   "id": "e704f355",
   "metadata": {},
   "outputs": [],
   "source": [
    "\n",
    "GB_MSE= mean_squared_error(Y_test,GBC_pred)\n",
    "\n",
    "GB_MSE\n"
   ]
  },
  {
   "cell_type": "code",
   "execution_count": null,
   "id": "6313dca3",
   "metadata": {},
   "outputs": [],
   "source": [
    "GB_Acc_result= pd.DataFrame({'Algorithm': ['GradientBoostingClassifier'], 'Accuracy': GB_ACC },index={'5'})\n",
    "Models_7 = pd.concat([Models_4, GB_Acc_result])\n",
    "Models_7 = Models_7[['Algorithm','Accuracy']]\n",
    "Models_7"
   ]
  },
  {
   "cell_type": "code",
   "execution_count": null,
   "id": "45040e63",
   "metadata": {},
   "outputs": [],
   "source": [
    "k = 20\n",
    "\n",
    "kfold = KFold(n_splits=k, random_state=70,shuffle=True)\n",
    "GBC_cross = cross_val_score(gbc, X, Y, cv=kfold)\n"
   ]
  },
  {
   "cell_type": "code",
   "execution_count": null,
   "id": "33009ecc",
   "metadata": {},
   "outputs": [],
   "source": [
    "GB_cross_Acc=np.mean(abs(GBC_cross))\n",
    "GB_cross_Acc"
   ]
  },
  {
   "cell_type": "code",
   "execution_count": null,
   "id": "6d3adff8",
   "metadata": {},
   "outputs": [],
   "source": [
    "\n",
    "\n",
    "GB_cross_Acc_result= pd.DataFrame({'Algorithm': ['KFold Gradient booster classifier'], 'Accuracy': GB_cross_Acc},index={'6'})\n",
    "Models_8 = pd.concat([Models_7, GB_cross_Acc_result])\n",
    "Models_8 = Models_8[['Algorithm','Accuracy']]\n",
    "Models_8"
   ]
  },
  {
   "cell_type": "code",
   "execution_count": null,
   "id": "9c3d0771",
   "metadata": {},
   "outputs": [],
   "source": [
    "##DecisionTreeClassifier\n",
    "\n",
    "from sklearn.tree import DecisionTreeClassifier\n",
    "dc_clf= DecisionTreeClassifier()\n",
    "dc_clf.fit(X_train,Y_train)\n",
    "\n",
    "dlf_pred = dc_clf.predict(X_test)\n"
   ]
  },
  {
   "cell_type": "code",
   "execution_count": null,
   "id": "6f24f9ca",
   "metadata": {},
   "outputs": [],
   "source": [
    "Dec_Acc = accuracy_score(Y_test,dlf_pred)\n",
    "Dec_Acc "
   ]
  },
  {
   "cell_type": "code",
   "execution_count": null,
   "id": "c2f31854",
   "metadata": {},
   "outputs": [],
   "source": [
    "\n",
    "Dec_Mse = mean_squared_error(Y_test,dlf_pred)\n",
    "Dec_Mse"
   ]
  },
  {
   "cell_type": "code",
   "execution_count": null,
   "id": "690b587f",
   "metadata": {},
   "outputs": [],
   "source": [
    "\n",
    "Dec_Acc_result= pd.DataFrame({'Algorithm': ['DecisionTreeClassifier'], 'Accuracy': Dec_Acc },index={'7'})\n",
    "Models_9 = pd.concat([Models_8, Dec_Acc_result])\n",
    "Models_9 = Models_9[['Algorithm','Accuracy']]\n",
    "Models_9"
   ]
  },
  {
   "cell_type": "code",
   "execution_count": null,
   "id": "e3be05cb",
   "metadata": {},
   "outputs": [],
   "source": [
    "k = 20\n",
    "\n",
    "kfold = KFold(n_splits=k, random_state=70,shuffle=True)\n",
    "Dlf_cross = cross_val_score(dc_clf, X, Y, cv=kfold)\n",
    "Dec_cross_Acc=np.mean(abs(Dlf_cross))\n",
    "Dec_cross_Acc\n"
   ]
  },
  {
   "cell_type": "code",
   "execution_count": null,
   "id": "66706884",
   "metadata": {},
   "outputs": [],
   "source": [
    "\n",
    "Dec_cross_Acc_result= pd.DataFrame({'Algorithm': ['K Fold DecisionTreeClassifier'], 'Accuracy': Dec_cross_Acc },index={'8'})\n",
    "Models_10 = pd.concat([Models_9, Dec_cross_Acc_result])\n",
    "Models_10 = Models_10[['Algorithm','Accuracy']]\n",
    "Models_10\n",
    "\n"
   ]
  },
  {
   "cell_type": "code",
   "execution_count": null,
   "id": "3b5f865c",
   "metadata": {},
   "outputs": [],
   "source": [
    "#RandomForestClassifier\n",
    "from sklearn.ensemble import RandomForestClassifier\n",
    "\n",
    "rc_clf=RandomForestClassifier()\n",
    "rc_clf.fit(X_train,Y_train)\n",
    "rfc_pred = rc_clf.predict(X_test)\n"
   ]
  },
  {
   "cell_type": "code",
   "execution_count": null,
   "id": "ff6ecdaa",
   "metadata": {},
   "outputs": [],
   "source": [
    "RF_ACC= accuracy_score(Y_test,rfc_pred)\n",
    "\n",
    "RF_ACC"
   ]
  },
  {
   "cell_type": "code",
   "execution_count": null,
   "id": "3bc2ff3e",
   "metadata": {},
   "outputs": [],
   "source": [
    "RF_MSE= mean_squared_error(Y_test,rfc_pred)\n",
    "RF_MSE\n"
   ]
  },
  {
   "cell_type": "code",
   "execution_count": null,
   "id": "d1d5ac3c",
   "metadata": {},
   "outputs": [],
   "source": [
    "RF_ACC_result= pd.DataFrame({'Algorithm': ['RandomForestClassifier'], 'Accuracy': RF_ACC },index={'9'})\n",
    "Models_11 = pd.concat([Models_10, RF_ACC_result])\n",
    "Models_11 = Models_11[['Algorithm','Accuracy']]\n",
    "Models_11"
   ]
  },
  {
   "cell_type": "code",
   "execution_count": null,
   "id": "1ad79bab",
   "metadata": {},
   "outputs": [],
   "source": [
    "\n",
    "k = 20\n",
    "\n",
    "kfold = KFold(n_splits=k, random_state=70,shuffle=True)\n",
    "RC_cross = cross_val_score(rc_clf, X, Y, cv=kfold)\n",
    "RF_cross_Acc_result =np.mean(abs(RC_cross))\n",
    "RF_cross_Acc_result"
   ]
  },
  {
   "cell_type": "code",
   "execution_count": null,
   "id": "5a5c8e02",
   "metadata": {},
   "outputs": [],
   "source": [
    "RF_cross_Acc_results= pd.DataFrame({'Algorithm': ['KFold RandomForestClassifier'], 'Accuracy': RF_cross_Acc_result},index={'10'})\n",
    "Models_12 = pd.concat([Models_11, RF_cross_Acc_results])\n",
    "Models_12 = Models_12[['Algorithm','Accuracy']]\n",
    "Models_12\n"
   ]
  },
  {
   "cell_type": "code",
   "execution_count": null,
   "id": "f8d89fa0",
   "metadata": {},
   "outputs": [],
   "source": [
    "from matplotlib import pyplot as plt\n",
    "import seaborn as sns\n",
    "sns.barplot(Models_12['Algorithm'],Models_12['Accuracy'])\n",
    "plt.xlabel(\"Accuracy of various machine learning techniques\")\n",
    "plt.xticks(rotation='vertical')\n"
   ]
  },
  {
   "cell_type": "code",
   "execution_count": null,
   "id": "a2436e74",
   "metadata": {},
   "outputs": [],
   "source": [
    "\n",
    "data = {  \n",
    "     \n",
    "     'DecisionTreeClassifier ': dlf_pred, \n",
    "     \n",
    "     'RandomForestClassifier':  rfc_pred ,\n",
    "   \n",
    "     'KNN classifier':KNN_prediction,\n",
    "     \n",
    "     'Gradient booster':GBC_pred,\n",
    "   \n",
    "}\n",
    "\n",
    "models = pd.DataFrame(data) \n",
    " \n",
    "for column in models:\n",
    "    \n",
    "    CM=confusion_matrix(Y_test,models[column])\n",
    "    \n",
    "    TN = CM[0][0]\n",
    "    FN = CM[1][0]\n",
    "    TP = CM[1][1]\n",
    "    FP = CM[0][1]\n",
    "    \n",
    "    specificity = TN/(TN+FP)\n",
    "    \n",
    "    loss_log = log_loss(Y_test, models[column])\n",
    "    \n",
    "    acc= accuracy_score(Y_test, models[column])*100\n",
    "    \n",
    "    roc=roc_auc_score(Y_test, models[column])*100\n",
    "    \n",
    "    prec = precision_score(Y_test, models[column])*100\n",
    "    \n",
    "    rec = recall_score(Y_test, models[column])*100\n",
    "    \n",
    "    f1 = f1_score(Y_test, models[column])*100\n",
    "    \n",
    "    mathew = matthews_corrcoef(Y_test, models[column])*100\n",
    "    \n",
    "    \n",
    "    results =pd.DataFrame([[column,acc, prec,rec,specificity, f1,roc, loss_log]],\n",
    "                          \n",
    "    columns = ['Model', 'Accuracy','Precision', 'Sensitivity','Specificity', 'F1 Score','ROC','Log_Loss'])\n",
    "    \n",
    "    model_results = model_results.append(results, ignore_index = True)\n",
    "\n",
    "   \n"
   ]
  },
  {
   "cell_type": "code",
   "execution_count": null,
   "id": "014b5d44",
   "metadata": {},
   "outputs": [],
   "source": [
    "model_results"
   ]
  },
  {
   "cell_type": "code",
   "execution_count": null,
   "id": "e97f04f7",
   "metadata": {},
   "outputs": [],
   "source": [
    "\n",
    "data = {  \n",
    "     \n",
    "     'DecisionTreeClassifier ': dlf_pred, \n",
    "     \n",
    "     'RandomForestClassifier':  rfc_pred ,\n",
    "   \n",
    "     'KNN classifier':KNN_prediction,\n",
    "     \n",
    "     'Gradient booster':GBC_pred,\n",
    "   \n",
    "}\n",
    "\n",
    "models = pd.DataFrame(data) \n",
    " \n",
    "for column in models:\n",
    "    \n",
    "    CM=confusion_matrix(Y_test,models[column])\n",
    "    \n",
    "    TN = CM[0][0]\n",
    "    FN = CM[1][0]\n",
    "    TP = CM[1][1]\n",
    "    FP = CM[0][1]\n",
    "        \n",
    "    prec = precision_score(Y_test, models[column])*100\n",
    "    \n",
    "    results =pd.DataFrame([[column, prec]],\n",
    "               columns = ['Model','Precision'])\n",
    "    model_results_PREC = model_results.append(results, ignore_index = True)\n",
    "\n",
    "   \n"
   ]
  },
  {
   "cell_type": "code",
   "execution_count": null,
   "id": "d8997f68",
   "metadata": {},
   "outputs": [],
   "source": [
    "model_results_PREC"
   ]
  },
  {
   "cell_type": "markdown",
   "id": "d164ed24",
   "metadata": {},
   "source": [
    "# ROC AUC CURVE"
   ]
  },
  {
   "cell_type": "code",
   "execution_count": null,
   "id": "74bc43d7",
   "metadata": {},
   "outputs": [],
   "source": [
    "def roc_auc_plot(Y_true, Y_proba, label=' ', l='-', lw=1.0):\n",
    "    from sklearn.metrics import roc_curve, roc_auc_score\n",
    "    fpr, tpr, _ = roc_curve(Y_true, Y_proba[:,1])\n",
    "    ax.plot(fpr, tpr, linestyle=l, linewidth=lw,\n",
    "            label=\"%s (area=%.3f)\"%(label,roc_auc_score(Y_true, Y_proba[:,1])))\n",
    "f, ax = plt.subplots(figsize=(12,8))\n",
    "\n",
    "roc_auc_plot(Y_test,log_clf.predict_proba(X_test),label='Logistic Regression ',l='-')\n",
    "roc_auc_plot(Y_test,dc_clf.predict_proba(X_test),label='Decision Tree Classifier ',l='-')\n",
    "roc_auc_plot(Y_test,rc_clf.predict_proba(X_test),label='Random Forest Classifier ',l='-')\n",
    "roc_auc_plot(Y_test,knn.predict_proba(X_test),label='KNN Classifier',l='-')\n",
    "roc_auc_plot(Y_test,gbc.predict_proba(X_test),label='Gradient Booster',l='-')\n",
    "\n",
    "ax.plot([0,1], [0,1], color='k', linewidth=0.5, linestyle='--', \n",
    "        )    \n",
    "ax.legend(loc=\"lower right\")    \n",
    "ax.set_xlabel('False Positive Rate')\n",
    "ax.set_ylabel('True Positive Rate')\n",
    "ax.set_xlim([0, 1])\n",
    "ax.set_ylim([0, 1])\n",
    "ax.set_title('Receiver Operator Characteristic curves')\n",
    "sns.despine()"
   ]
  },
  {
   "cell_type": "markdown",
   "id": "169232d7",
   "metadata": {},
   "source": [
    "# precision recall curve"
   ]
  },
  {
   "cell_type": "code",
   "execution_count": null,
   "id": "325b8015",
   "metadata": {},
   "outputs": [],
   "source": [
    "def precision_recall_plot(Y_true, Y_proba, label=' ', l='-', lw=1.0):\n",
    "    from sklearn.metrics import precision_recall_curve, average_precision_score\n",
    "    precision, recall, _ = precision_recall_curve(Y_test,\n",
    "                                                  Y_proba[:,1])\n",
    "    average_precision = average_precision_score(Y_test, Y_proba[:,1],\n",
    "                                                     average=\"micro\")\n",
    "    ax.plot(recall, precision, label='%s (average=%.3f)'%(label,average_precision),\n",
    "            linestyle=l, linewidth=lw)\n",
    "\n",
    "f, ax = plt.subplots(figsize=(14,10))\n",
    "\n",
    "\n",
    "\n",
    "precision_recall_plot(Y_test,log_clf.predict_proba(X_test),label='Logistic Regression ',l='-')\n",
    "precision_recall_plot(Y_test,dc_clf.predict_proba(X_test),label='Decision Tree Classifier ',l='-')\n",
    "precision_recall_plot(Y_test,rc_clf.predict_proba(X_test),label='Random Forest Classifier ',l='-')\n",
    "precision_recall_plot(Y_test,knn.predict_proba(X_test),label='KNN Classifier',l='-')\n",
    "precision_recall_plot(Y_test,gbc.predict_proba(X_test),label='Gradient Booster',l='-')\n",
    "\n",
    "\n",
    "ax.set_xlabel('Recall')\n",
    "ax.set_ylabel('Precision')\n",
    "ax.legend(loc=\"lower left\")\n",
    "ax.grid(True)\n",
    "ax.set_xlim([0, 1])\n",
    "ax.set_ylim([0, 1])\n",
    "ax.set_title('Precision-recall curves')\n",
    "sns.despine()"
   ]
  },
  {
   "cell_type": "code",
   "execution_count": null,
   "id": "c4a20e20",
   "metadata": {},
   "outputs": [],
   "source": []
  },
  {
   "cell_type": "code",
   "execution_count": null,
   "id": "9fae0040",
   "metadata": {},
   "outputs": [],
   "source": [
    "#PREDICTION USING THE BEST MODEL TO DETERMINE WHETEHR THE PERSON HAS HEART DISEASE OR NOT"
   ]
  },
  {
   "cell_type": "code",
   "execution_count": null,
   "id": "9d23f6f4",
   "metadata": {},
   "outputs": [],
   "source": [
    "## USING the best model among these\n",
    "### Logistic regression is the best model, let use this for production\n",
    "### so training with entire data with the best model"
   ]
  },
  {
   "cell_type": "code",
   "execution_count": null,
   "id": "7f6602a6",
   "metadata": {},
   "outputs": [],
   "source": [
    "X= new_data.drop('Target',axis=1)\n",
    "Y = new_data['Target']\n",
    "\n"
   ]
  },
  {
   "cell_type": "code",
   "execution_count": null,
   "id": "1d897b1d",
   "metadata": {},
   "outputs": [],
   "source": [
    "X.shape"
   ]
  },
  {
   "cell_type": "code",
   "execution_count": null,
   "id": "65f7ac09",
   "metadata": {},
   "outputs": [],
   "source": [
    "Y.shape"
   ]
  },
  {
   "cell_type": "code",
   "execution_count": null,
   "id": "70c732cb",
   "metadata": {},
   "outputs": [],
   "source": [
    "\n",
    "from sklearn.neighbors import KNeighborsClassifier\n",
    "knn = KNeighborsClassifier()\n"
   ]
  },
  {
   "cell_type": "code",
   "execution_count": null,
   "id": "c422f199",
   "metadata": {},
   "outputs": [],
   "source": [
    "knn.fit(X,Y)"
   ]
  },
  {
   "cell_type": "code",
   "execution_count": null,
   "id": "ed057a2d",
   "metadata": {},
   "outputs": [],
   "source": [
    "X.iloc[0:2:,20:30]"
   ]
  },
  {
   "cell_type": "code",
   "execution_count": null,
   "id": "d2eb1069",
   "metadata": {},
   "outputs": [],
   "source": [
    "import pandas as pd\n",
    "\n",
    "pred_data= pd.DataFrame({\n",
    "\n",
    "'genhlth':  0.0,\n",
    "'physhlth':0.0,\n",
    "'menthlth':1,\n",
    "'sleptim1':8,\n",
    "'bphigh4':1,\n",
    "'toldhi2': 0,\n",
    " 'toldhi2': 0, \n",
    "'cvdcrhd4' : 0,\n",
    "'cvdstrk3' : 0,\n",
    "'asthma3': 0,\n",
    "'chccopd1':0,\n",
    "'chckidny' :  0.0,\n",
    "'weight2'   :   180.0,\n",
    "'height3'     : 603.0,\n",
    "'internet'  :   1.0,\n",
    "'sex'         : 1.0,\n",
    "'qlactlm2'   :  1.0,\n",
    "'blind':1,\n",
    "'diffwalk':0,\n",
    "'smoke100' : 0.0,\n",
    "'alcday5'    :  220.0,\n",
    "'fruitju1':301.0,\n",
    "'vegetab1':101.0,\n",
    "'exerany2':1.0,\n",
    "'seatbelt'    : 0.0,\n",
    "'medicare':1,\n",
    "'X_bmi5cat':  0.0 ,  \n",
    "\n",
    "\n",
    "    \n",
    "}, index=[0])\n",
    "    \n",
    " "
   ]
  },
  {
   "cell_type": "code",
   "execution_count": null,
   "id": "3a4786c5",
   "metadata": {},
   "outputs": [],
   "source": [
    "pd.get_option('display.max_rows')"
   ]
  },
  {
   "cell_type": "code",
   "execution_count": null,
   "id": "5b48e6ed",
   "metadata": {},
   "outputs": [],
   "source": [
    "pd.get_option('display.max_rows',None)"
   ]
  },
  {
   "cell_type": "code",
   "execution_count": null,
   "id": "eee10d5e",
   "metadata": {},
   "outputs": [],
   "source": [
    "new_data.head()"
   ]
  },
  {
   "cell_type": "code",
   "execution_count": null,
   "id": "5aa258e4",
   "metadata": {},
   "outputs": [],
   "source": [
    "new_data.columns"
   ]
  },
  {
   "cell_type": "code",
   "execution_count": null,
   "id": "bd2e35bd",
   "metadata": {},
   "outputs": [],
   "source": [
    "pred_data.shape"
   ]
  },
  {
   "cell_type": "code",
   "execution_count": null,
   "id": "3e15d4cc",
   "metadata": {},
   "outputs": [],
   "source": [
    "output= gbc.predict(pred_data)"
   ]
  },
  {
   "cell_type": "code",
   "execution_count": null,
   "id": "dfb35340",
   "metadata": {},
   "outputs": [],
   "source": [
    "if output[0]== 0:\n",
    "    print(\"No Disease\")\n",
    "else:\n",
    "    print(\"Disease\")"
   ]
  },
  {
   "cell_type": "markdown",
   "id": "f9ea92e8",
   "metadata": {},
   "source": [
    "## saving using joblib"
   ]
  },
  {
   "cell_type": "code",
   "execution_count": null,
   "id": "4efed127",
   "metadata": {},
   "outputs": [],
   "source": [
    "import joblib"
   ]
  },
  {
   "cell_type": "code",
   "execution_count": null,
   "id": "c9f4d930",
   "metadata": {},
   "outputs": [],
   "source": [
    "joblib.dump(gbc,'model_joblib_heartdispred')"
   ]
  },
  {
   "cell_type": "code",
   "execution_count": null,
   "id": "9b55c913",
   "metadata": {},
   "outputs": [],
   "source": [
    "model = joblib.load('model_joblib_heartdispred')"
   ]
  },
  {
   "cell_type": "code",
   "execution_count": null,
   "id": "04656ded",
   "metadata": {},
   "outputs": [],
   "source": [
    "model.predict(pred_data)"
   ]
  },
  {
   "cell_type": "markdown",
   "id": "5a40d1a7",
   "metadata": {},
   "source": [
    "## GUI"
   ]
  },
  {
   "cell_type": "code",
   "execution_count": null,
   "id": "c3c805c3",
   "metadata": {},
   "outputs": [],
   "source": [
    "from tkinter import *\n",
    "import joblib"
   ]
  },
  {
   "cell_type": "code",
   "execution_count": null,
   "id": "4ca370e9",
   "metadata": {},
   "outputs": [],
   "source": [
    "from tkinter import *\n",
    "import joblib\n",
    "\n",
    "\n",
    "def show_entry_fields():\n",
    "    p1=int(e1.get())\n",
    "    p2=float(e2.get())\n",
    "    p3=float(e3.get())\n",
    "    p4=float(e4.get())\n",
    "    p5=int(e5.get())\n",
    "    \n",
    "    p6=int(e6.get())\n",
    "    p7=int(e7.get())\n",
    "    p8=int(e8.get())\n",
    "    p9=int(e9.get())\n",
    "    p10=int(e10.get())\n",
    "\n",
    "    \n",
    "\n",
    "    \n",
    "    \n",
    "    p11=float(e11.get())\n",
    "    p12=float(e12.get())\n",
    "    p13=int(e13.get())\n",
    "    p14=int(e14.get())\n",
    "    p15=int(e15.get())\n",
    "    \n",
    "    p16=int(e16.get())\n",
    "    p17=int(e17.get())\n",
    "    p18=int(e18.get())\n",
    "    p19=float(e19.get())\n",
    "    p20=float(e20.get())\n",
    "\n",
    "    p21=float(e21.get())\n",
    "    p22=int(e22.get())\n",
    "    p23=int(e23.get())\n",
    "    p24=int(e24.get())\n",
    "    p25=int(e25.get())\n",
    "    p26=int(e25.get())\n",
    "   \n",
    "  \n",
    "\n",
    "\n",
    "    \n",
    "    model = joblib.load('model_joblib_heartdispred')\n",
    "    result=model.predict([[p1,p2,p3,p4,p5,p6,p7,p8,p8,p10,p11,p12,p13,p14,p15,p16,p17,p18,p19,p20,p21,p22,p23,p24,p25,p26]])\n",
    "    \n",
    "    if result == 0:\n",
    "        Label(master, text=\"Chance of occurance of Heart disease is very low\").grid(row=53)\n",
    "    else:\n",
    "        Label(master, text=\"Chance of occurance of Heart disease is very high \").grid(row=53)\n",
    "    \n",
    "master = Tk()\n",
    "master.title(\"Heart Disease Predicter\")\n",
    "\n",
    "label = Label(master, text = \"Heart Disease Predicter\"\n",
    "                          , bg = \"red\", fg = \"white\"). \\\n",
    "                               grid(row=0,columnspan=2)\n",
    "\n",
    "\n",
    "\n",
    "Label(master, text=\"General health status{0/1/2/3}\").grid(row=1)\n",
    "Label(master, text=\"Physically unhealthy days\").grid(row=2)\n",
    "Label(master, text=\"Mentally unhealthy days\").grid(row=3)\n",
    "Label(master, text=\"Sleeping hours\").grid(row=4)\n",
    "Label(master, text=\"High Bp[1/0]\").grid(row=5)\n",
    "Label(master, text=\"Has cholestrol[1/0]\").grid(row=6)\n",
    "Label(master, text=\"Had stroke[1/0]\").grid(row=7)\n",
    "Label(master, text=\"Has asthma[1/0]\").grid(row=8)\n",
    "Label(master, text=\"Has Pulomonary diseases[1/0]\").grid(row=9)\n",
    "Label(master, text=\"Has kidney problems[1/0]\").grid(row=10)\n",
    "\n",
    "\n",
    "\n",
    "\n",
    "\n",
    "\n",
    "Label(master, text=\"Enter your weight\").grid(row=11)\n",
    "Label(master, text=\"Enter your height\").grid(row=12)\n",
    "Label(master, text=\"Frequnet user of internet[0/1]\").grid(row=13)\n",
    "Label(master, text=\"Enter your sex[0/1]\").grid(row=14)\n",
    "Label(master, text=\"Activity limitation{0/1}\").grid(row=15)\n",
    "\n",
    "\n",
    "\n",
    "\n",
    "\n",
    "\n",
    "Label(master, text=\"Suffering from blindness[1/0]\").grid(row=16)\n",
    "Label(master, text=\"Has difficulty in walking[1/0]\").grid(row=17)\n",
    "Label(master, text=\"Frequent smoker [1/0]\").grid(row=18)\n",
    "Label(master, text=\"Alcohol Consumption\").grid(row=19)\n",
    "Label(master, text=\"Fruits Intake\").grid(row=20)\n",
    "Label(master, text=\"Vegetable consumption\").grid(row=21)\n",
    "Label(master, text=\"Does Excercise[1/0]\").grid(row=22)\n",
    "\n",
    "Label(master, text=\"Usage of seatbelt[0/1/2/3]\").grid(row=23)\n",
    "Label(master, text=\"Medicare [1/0]\").grid(row=24)\n",
    "Label(master, text=\"BMI category[0/1/2/3][1/0]\").grid(row=25)\n",
    "Label(master, text=\"Had any corononary or angina diseses[0/1]\").grid(row=25)\n",
    "\n",
    "\n",
    "\n",
    "\n",
    "  \n",
    "e1 = Entry(master)\n",
    "e2 = Entry(master)\n",
    "e3 = Entry(master)\n",
    "e4 = Entry(master)\n",
    "e5 = Entry(master)\n",
    "e6 = Entry(master)\n",
    "e7 = Entry(master)\n",
    "e8 = Entry(master)\n",
    "e9 = Entry(master)\n",
    "e10 = Entry(master)\n",
    "e11 = Entry(master)\n",
    "e12 = Entry(master)\n",
    "e13 = Entry(master)\n",
    "e14 = Entry(master)\n",
    "e15 = Entry(master)\n",
    "e16 = Entry(master)\n",
    "e17 = Entry(master)\n",
    "e18 = Entry(master)\n",
    "e19 = Entry(master)\n",
    "e20 = Entry(master)\n",
    "e21 = Entry(master)\n",
    "e22 = Entry(master)\n",
    "e23 = Entry(master)\n",
    "e24 = Entry(master)\n",
    "e25 = Entry(master)\n",
    "e26 = Entry(master)\n",
    "\n",
    "e1.grid(row=1, column=1)\n",
    "e2.grid(row=2, column=1)\n",
    "e3.grid(row=3, column=1)\n",
    "e4.grid(row=4, column=1)\n",
    "e5.grid(row=5, column=1)\n",
    "e6.grid(row=6, column=1)\n",
    "e7.grid(row=7, column=1)\n",
    "e8.grid(row=8, column=1)\n",
    "e9.grid(row=9, column=1)\n",
    "e10.grid(row=10, column=1)\n",
    "e11.grid(row=11, column=1)\n",
    "e12.grid(row=12, column=1)\n",
    "e13.grid(row=13, column=1)\n",
    "e14.grid(row=14, column=1)\n",
    "e15.grid(row=15, column=1)\n",
    "e16.grid(row=16, column=1)\n",
    "e17.grid(row=17, column=1)\n",
    "e18.grid(row=18, column=1)\n",
    "e19.grid(row=19, column=1)\n",
    "e20.grid(row=20, column=1)\n",
    "\n",
    "\n",
    "\n",
    "e21.grid(row=21, column=1)\n",
    "e22.grid(row=22, column=1)\n",
    "e23.grid(row=23, column=1)\n",
    "e24.grid(row=24, column=1)\n",
    "e25.grid(row=25, column=1)\n",
    "e26.grid(row=26, column=1)\n",
    "\n",
    "\n",
    "\n",
    "\n",
    "\n",
    "\n",
    "Button(master, text='Predict', command=show_entry_fields).grid()\n",
    "\n",
    "mainloop()"
   ]
  }
 ],
 "metadata": {
  "kernelspec": {
   "display_name": "Python 3 (ipykernel)",
   "language": "python",
   "name": "python3"
  },
  "language_info": {
   "codemirror_mode": {
    "name": "ipython",
    "version": 3
   },
   "file_extension": ".py",
   "mimetype": "text/x-python",
   "name": "python",
   "nbconvert_exporter": "python",
   "pygments_lexer": "ipython3",
   "version": "3.9.7"
  }
 },
 "nbformat": 4,
 "nbformat_minor": 5
}
